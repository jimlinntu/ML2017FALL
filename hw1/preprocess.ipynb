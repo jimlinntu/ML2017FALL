{
 "cells": [
  {
   "cell_type": "code",
   "execution_count": 1,
   "metadata": {
    "collapsed": true
   },
   "outputs": [],
   "source": [
    "import numpy as np\n",
    "import pandas as pd"
   ]
  },
  {
   "cell_type": "code",
   "execution_count": 2,
   "metadata": {
    "collapsed": false
   },
   "outputs": [],
   "source": [
    "df = pd.read_csv(\"./train.csv\",header=0, encoding='utf-8')"
   ]
  },
  {
   "cell_type": "code",
   "execution_count": 3,
   "metadata": {
    "collapsed": false
   },
   "outputs": [
    {
     "data": {
      "text/plain": [
       "(4320, 27)"
      ]
     },
     "execution_count": 3,
     "metadata": {},
     "output_type": "execute_result"
    }
   ],
   "source": [
    "df.shape"
   ]
  },
  {
   "cell_type": "code",
   "execution_count": 4,
   "metadata": {
    "collapsed": false,
    "scrolled": false
   },
   "outputs": [
    {
     "name": "stdout",
     "output_type": "stream",
     "text": [
      "              日期  測站          測項     0     1     2     3     4     5     6  \\\n",
      "0       2014/1/1  豐原    AMB_TEMP    14    14    14    13    12    12    12   \n",
      "1       2014/1/1  豐原         CH4   1.8   1.8   1.8   1.8   1.8   1.8   1.8   \n",
      "2       2014/1/1  豐原          CO  0.51  0.41  0.39  0.37  0.35   0.3  0.37   \n",
      "3       2014/1/1  豐原        NMHC   0.2  0.15  0.13  0.12  0.11  0.06   0.1   \n",
      "4       2014/1/1  豐原          NO   0.9   0.6   0.5   1.7   1.8   1.5   1.9   \n",
      "5       2014/1/1  豐原         NO2    16   9.2   8.2   6.9   6.8   3.8   6.9   \n",
      "6       2014/1/1  豐原         NOx    17   9.8   8.7   8.6   8.5   5.3   8.8   \n",
      "7       2014/1/1  豐原          O3    16    30    27    23    24    28    24   \n",
      "8       2014/1/1  豐原        PM10    56    50    48    35    25    12     4   \n",
      "9       2014/1/1  豐原       PM2.5    26    39    36    35    31    28    25   \n",
      "10      2014/1/1  豐原    RAINFALL    NR    NR    NR    NR    NR    NR    NR   \n",
      "11      2014/1/1  豐原          RH    77    68    67    74    72    73    74   \n",
      "12      2014/1/1  豐原         SO2   1.8     2   1.7   1.6   1.9   1.4   1.5   \n",
      "13      2014/1/1  豐原         THC     2     2     2   1.9   1.9   1.8   1.9   \n",
      "14      2014/1/1  豐原       WD_HR    37    80    57    76   110   106   101   \n",
      "15      2014/1/1  豐原  WIND_DIREC    35    79   2.4    55    94   116   106   \n",
      "16      2014/1/1  豐原  WIND_SPEED   1.4   1.8     1   0.6   1.7   2.5   2.5   \n",
      "17      2014/1/1  豐原       WS_HR   0.5   0.9   0.6   0.3   0.6   1.9     2   \n",
      "18      2014/1/2  豐原    AMB_TEMP    16    15    15    14    14    15    16   \n",
      "19      2014/1/2  豐原         CH4   1.8   1.8   1.8   1.8   1.8   1.8   1.8   \n",
      "20      2014/1/2  豐原          CO  0.26  0.25  0.28  0.27  0.24  0.26  0.34   \n",
      "21      2014/1/2  豐原        NMHC  0.06  0.05  0.06  0.05  0.05  0.07  0.09   \n",
      "22      2014/1/2  豐原          NO   1.4   1.1   1.3     1   1.2   1.1   1.6   \n",
      "23      2014/1/2  豐原         NO2   3.7   3.2   3.3   3.1   3.1   4.3   9.4   \n",
      "24      2014/1/2  豐原         NOx     5   4.3   4.7   4.1   4.3   5.5    11   \n",
      "25      2014/1/2  豐原          O3    39    38    39    39    34    31    30   \n",
      "26      2014/1/2  豐原        PM10    49    34    31    16    18     8    16   \n",
      "27      2014/1/2  豐原       PM2.5    21    23    30    30    22    18    13   \n",
      "28      2014/1/2  豐原    RAINFALL    NR    NR    NR    NR    NR    NR    NR   \n",
      "29      2014/1/2  豐原          RH    65    66    70    71    70    67    59   \n",
      "...          ...  ..         ...   ...   ...   ...   ...   ...   ...   ...   \n",
      "4290  2014/12/19  豐原         NOx   8.8   7.5   8.5   8.2   8.6   9.3    18   \n",
      "4291  2014/12/19  豐原          O3    30    33    30    34    37    36    24   \n",
      "4292  2014/12/19  豐原        PM10    45    50    64    51    44    34    40   \n",
      "4293  2014/12/19  豐原       PM2.5    14    16    13    14    21    19    23   \n",
      "4294  2014/12/19  豐原    RAINFALL    NR    NR    NR    NR    NR    NR    NR   \n",
      "4295  2014/12/19  豐原          RH    71    70    71    70    70    71    69   \n",
      "4296  2014/12/19  豐原         SO2  -0.2     2   2.1   2.2   2.3   2.5   2.8   \n",
      "4297  2014/12/19  豐原         THC   1.9   1.9     2   1.9   1.9     2   2.1   \n",
      "4298  2014/12/19  豐原       WD_HR   115   119   102   119    97    90    97   \n",
      "4299  2014/12/19  豐原  WIND_DIREC   118   119   110   123   111    86   111   \n",
      "4300  2014/12/19  豐原  WIND_SPEED   1.8   1.7   1.8     2   1.6   1.4   0.9   \n",
      "4301  2014/12/19  豐原       WS_HR   1.5   1.4   1.3   1.9   1.3     1     1   \n",
      "4302  2014/12/20  豐原    AMB_TEMP    14    14    14    14    14    14    14   \n",
      "4303  2014/12/20  豐原         CH4   1.7   1.7   1.7   1.7   1.7   1.7   1.7   \n",
      "4304  2014/12/20  豐原          CO  0.21   0.2  0.17  0.17  0.16  0.14  0.15   \n",
      "4305  2014/12/20  豐原        NMHC  0.06  0.09  0.05  0.06  0.05  0.04  0.03   \n",
      "4306  2014/12/20  豐原          NO   1.4   1.6   1.3   0.3   0.3   0.5   0.3   \n",
      "4307  2014/12/20  豐原         NO2   8.5   8.7   4.1   6.3   4.3     4   4.4   \n",
      "4308  2014/12/20  豐原         NOx   9.9    10   5.4   6.6   4.6   4.5   4.8   \n",
      "4309  2014/12/20  豐原          O3    23    22    32    30    32    32    32   \n",
      "4310  2014/12/20  豐原        PM10    17    22    11    16     5    12     7   \n",
      "4311  2014/12/20  豐原       PM2.5     6     1     1     1     0     0     0   \n",
      "4312  2014/12/20  豐原    RAINFALL   0.2    NR    NR    NR    NR    NR    NR   \n",
      "4313  2014/12/20  豐原          RH    88    91    89    88    87    86    82   \n",
      "4314  2014/12/20  豐原         SO2   1.6   1.4   0.8   1.5   0.7     1   1.1   \n",
      "4315  2014/12/20  豐原         THC   1.8   1.8   1.8   1.8   1.8   1.7   1.7   \n",
      "4316  2014/12/20  豐原       WD_HR    46    13    61    44    55    68    66   \n",
      "4317  2014/12/20  豐原  WIND_DIREC    36    55    72   327    74    52    59   \n",
      "4318  2014/12/20  豐原  WIND_SPEED   1.9   2.4   1.9   2.8   2.3   1.9   2.1   \n",
      "4319  2014/12/20  豐原       WS_HR   0.7   0.8   1.8     1   1.9   1.7   2.1   \n",
      "\n",
      "      ...     14    15    16    17    18    19    20    21    22    23  \n",
      "0     ...     22    22    21    19    17    16    15    15    15    15  \n",
      "1     ...    1.8   1.8   1.8   1.8   1.8   1.8   1.8   1.8   1.8   1.8  \n",
      "2     ...   0.37  0.37  0.47  0.69  0.56  0.45  0.38  0.35  0.36  0.32  \n",
      "3     ...    0.1  0.13  0.14  0.23  0.18  0.12   0.1  0.09   0.1  0.08  \n",
      "4     ...    2.5   2.2   2.5   2.3   2.1   1.9   1.5   1.6   1.8   1.5  \n",
      "5     ...     11    11    22    28    19    12   8.1     7   6.9     6  \n",
      "6     ...     14    13    25    30    21    13   9.7   8.6   8.7   7.5  \n",
      "7     ...     65    64    51    34    33    34    37    38    38    36  \n",
      "8     ...     52    51    66    85    85    63    46    36    42    42  \n",
      "9     ...     36    45    42    49    45    44    41    30    24    13  \n",
      "10    ...     NR    NR    NR    NR    NR    NR    NR    NR    NR    NR  \n",
      "11    ...     47    49    56    67    72    69    70    70    70    69  \n",
      "12    ...    3.9   4.4   9.9   5.1   3.4   2.3     2   1.9   1.9   1.9  \n",
      "13    ...    1.9   1.9   1.9   2.1     2   1.9   1.9   1.9   1.9   1.9  \n",
      "14    ...    307   304   307   124   118   121   113   112   106   110  \n",
      "15    ...    313   305   291   124   119   118   114   108   102   111  \n",
      "16    ...    2.5   2.2   1.4   2.2   2.8     3   2.6   2.7   2.1   2.1  \n",
      "17    ...    2.1   2.1   1.9     1   2.5   2.5   2.8   2.6   2.4   2.3  \n",
      "18    ...     24    24    23    21    20    19    18    18    18    18  \n",
      "19    ...    1.8   1.8   1.8   1.8   1.8   1.8   1.8   1.8   1.8   1.8  \n",
      "20    ...   0.34  0.35  0.38  0.61  0.44   0.4   0.4  0.55  0.41  0.33  \n",
      "21    ...   0.12  0.16  0.23  0.32  0.18  0.15  0.23  0.29  0.17  0.12  \n",
      "22    ...    2.3   2.4   2.4   3.5   1.5   1.4   1.5   1.5   1.5   1.7  \n",
      "23    ...     12    16    18    25    15    12    13    21    15   9.1  \n",
      "24    ...     14    18    20    28    16    13    14    22    17    11  \n",
      "25    ...     62    58    55    33    40    38    32    20    25    35  \n",
      "26    ...     71    66    69    65    61    64    62    57    49    42  \n",
      "27    ...     53    43    43    45    46    32    16    19    22    26  \n",
      "28    ...     NR    NR    NR    NR    NR    NR    NR    NR    NR    NR  \n",
      "29    ...     47    48    53    62    65    66    69    71    71    71  \n",
      "...   ...    ...   ...   ...   ...   ...   ...   ...   ...   ...   ...  \n",
      "4290  ...    8.8   9.2   8.3    29    21    12    16    10   5.9   5.1  \n",
      "4291  ...     37    35    35    10    17    25    19    22    32    32  \n",
      "4292  ...     41    27    22     5    28    42    48    36    24    29  \n",
      "4293  ...     21    21    19    19    25    19    11     0     7     7  \n",
      "4294  ...    0.2   0.2    NR    NR    NR    NR    NR   0.2    NR   0.4  \n",
      "4295  ...     82    82    80    85    84    80    83    85    84    82  \n",
      "4296  ...    2.2   1.9   2.1   2.9   2.6   2.4   2.7   2.4     2   1.9  \n",
      "4297  ...    1.7   1.8   1.7     2   1.9   1.9   1.9   1.8   1.7   1.7  \n",
      "4298  ...    100    85    81    50    72    68    80    72    79    77  \n",
      "4299  ...     97    84    46    56    75    57   106   102    99    22  \n",
      "4300  ...    2.5   1.6     1   1.2   2.4   1.3   2.7   1.9   2.9   0.7  \n",
      "4301  ...    2.6   1.4   1.7   0.8     2   1.1     1   1.2   1.8   1.6  \n",
      "4302  ...     19    18    17    16    15    14    13    13    13    13  \n",
      "4303  ...    1.7   1.7   1.7   1.8   1.8   1.8   1.8   1.8   1.8   1.8  \n",
      "4304  ...   0.24  0.27  0.31   0.5  0.55  0.48  0.47  0.51  0.57  0.56  \n",
      "4305  ...   0.08  0.11  0.23   0.3   0.2  0.15  0.16  0.16  0.19  0.19  \n",
      "4306  ...    1.3   1.3   0.9   1.1   1.3     1   1.5   1.5   1.1   1.3  \n",
      "4307  ...    6.1     8    11    18    19    13    13    13    13    14  \n",
      "4308  ...    7.4   9.3    11    19    21    14    15    15    14    15  \n",
      "4309  ...     37    39    37    26    18    18    14    13    13    13  \n",
      "4310  ...      8    13    28    39    45    54    66    50    32    22  \n",
      "4311  ...      1     7    24    37    49    37    28    17    24    29  \n",
      "4312  ...     NR    NR    NR    NR    NR    NR    NR    NR    NR    NR  \n",
      "4313  ...     53    56    59    65    73    76    80    82    84    84  \n",
      "4314  ...    2.6   2.8   3.1   4.1   3.4   2.6   2.2   2.3   2.3   2.3  \n",
      "4315  ...    1.8   1.8     2   2.1     2   1.9   1.9   1.9     2     2  \n",
      "4316  ...     59   308   327    21   100   109   108   114   108   109  \n",
      "4317  ...     18   311    52    54   121    97   107   118   100   105  \n",
      "4318  ...    2.3   2.6   1.3     1   1.5     1   1.7   1.5     2     2  \n",
      "4319  ...    1.3   1.7   0.7   0.4   1.1   1.4   1.3   1.6   1.8     2  \n",
      "\n",
      "[4320 rows x 27 columns]\n"
     ]
    }
   ],
   "source": [
    "print(df)"
   ]
  },
  {
   "cell_type": "code",
   "execution_count": 5,
   "metadata": {
    "collapsed": false
   },
   "outputs": [
    {
     "data": {
      "text/html": [
       "<div>\n",
       "<table border=\"1\" class=\"dataframe\">\n",
       "  <thead>\n",
       "    <tr style=\"text-align: right;\">\n",
       "      <th></th>\n",
       "      <th>日期</th>\n",
       "      <th>測站</th>\n",
       "      <th>測項</th>\n",
       "      <th>0</th>\n",
       "      <th>1</th>\n",
       "      <th>2</th>\n",
       "      <th>3</th>\n",
       "      <th>4</th>\n",
       "      <th>5</th>\n",
       "      <th>6</th>\n",
       "    </tr>\n",
       "  </thead>\n",
       "  <tbody>\n",
       "    <tr>\n",
       "      <th>1</th>\n",
       "      <td>2014/1/1</td>\n",
       "      <td>豐原</td>\n",
       "      <td>CH4</td>\n",
       "      <td>1.8</td>\n",
       "      <td>1.8</td>\n",
       "      <td>1.8</td>\n",
       "      <td>1.8</td>\n",
       "      <td>1.8</td>\n",
       "      <td>1.8</td>\n",
       "      <td>1.8</td>\n",
       "    </tr>\n",
       "    <tr>\n",
       "      <th>2</th>\n",
       "      <td>2014/1/1</td>\n",
       "      <td>豐原</td>\n",
       "      <td>CO</td>\n",
       "      <td>0.51</td>\n",
       "      <td>0.41</td>\n",
       "      <td>0.39</td>\n",
       "      <td>0.37</td>\n",
       "      <td>0.35</td>\n",
       "      <td>0.3</td>\n",
       "      <td>0.37</td>\n",
       "    </tr>\n",
       "    <tr>\n",
       "      <th>3</th>\n",
       "      <td>2014/1/1</td>\n",
       "      <td>豐原</td>\n",
       "      <td>NMHC</td>\n",
       "      <td>0.2</td>\n",
       "      <td>0.15</td>\n",
       "      <td>0.13</td>\n",
       "      <td>0.12</td>\n",
       "      <td>0.11</td>\n",
       "      <td>0.06</td>\n",
       "      <td>0.1</td>\n",
       "    </tr>\n",
       "    <tr>\n",
       "      <th>4</th>\n",
       "      <td>2014/1/1</td>\n",
       "      <td>豐原</td>\n",
       "      <td>NO</td>\n",
       "      <td>0.9</td>\n",
       "      <td>0.6</td>\n",
       "      <td>0.5</td>\n",
       "      <td>1.7</td>\n",
       "      <td>1.8</td>\n",
       "      <td>1.5</td>\n",
       "      <td>1.9</td>\n",
       "    </tr>\n",
       "    <tr>\n",
       "      <th>5</th>\n",
       "      <td>2014/1/1</td>\n",
       "      <td>豐原</td>\n",
       "      <td>NO2</td>\n",
       "      <td>16</td>\n",
       "      <td>9.2</td>\n",
       "      <td>8.2</td>\n",
       "      <td>6.9</td>\n",
       "      <td>6.8</td>\n",
       "      <td>3.8</td>\n",
       "      <td>6.9</td>\n",
       "    </tr>\n",
       "    <tr>\n",
       "      <th>6</th>\n",
       "      <td>2014/1/1</td>\n",
       "      <td>豐原</td>\n",
       "      <td>NOx</td>\n",
       "      <td>17</td>\n",
       "      <td>9.8</td>\n",
       "      <td>8.7</td>\n",
       "      <td>8.6</td>\n",
       "      <td>8.5</td>\n",
       "      <td>5.3</td>\n",
       "      <td>8.8</td>\n",
       "    </tr>\n",
       "    <tr>\n",
       "      <th>7</th>\n",
       "      <td>2014/1/1</td>\n",
       "      <td>豐原</td>\n",
       "      <td>O3</td>\n",
       "      <td>16</td>\n",
       "      <td>30</td>\n",
       "      <td>27</td>\n",
       "      <td>23</td>\n",
       "      <td>24</td>\n",
       "      <td>28</td>\n",
       "      <td>24</td>\n",
       "    </tr>\n",
       "    <tr>\n",
       "      <th>8</th>\n",
       "      <td>2014/1/1</td>\n",
       "      <td>豐原</td>\n",
       "      <td>PM10</td>\n",
       "      <td>56</td>\n",
       "      <td>50</td>\n",
       "      <td>48</td>\n",
       "      <td>35</td>\n",
       "      <td>25</td>\n",
       "      <td>12</td>\n",
       "      <td>4</td>\n",
       "    </tr>\n",
       "    <tr>\n",
       "      <th>9</th>\n",
       "      <td>2014/1/1</td>\n",
       "      <td>豐原</td>\n",
       "      <td>PM2.5</td>\n",
       "      <td>26</td>\n",
       "      <td>39</td>\n",
       "      <td>36</td>\n",
       "      <td>35</td>\n",
       "      <td>31</td>\n",
       "      <td>28</td>\n",
       "      <td>25</td>\n",
       "    </tr>\n",
       "  </tbody>\n",
       "</table>\n",
       "</div>"
      ],
      "text/plain": [
       "         日期  測站     測項     0     1     2     3     4     5     6\n",
       "1  2014/1/1  豐原    CH4   1.8   1.8   1.8   1.8   1.8   1.8   1.8\n",
       "2  2014/1/1  豐原     CO  0.51  0.41  0.39  0.37  0.35   0.3  0.37\n",
       "3  2014/1/1  豐原   NMHC   0.2  0.15  0.13  0.12  0.11  0.06   0.1\n",
       "4  2014/1/1  豐原     NO   0.9   0.6   0.5   1.7   1.8   1.5   1.9\n",
       "5  2014/1/1  豐原    NO2    16   9.2   8.2   6.9   6.8   3.8   6.9\n",
       "6  2014/1/1  豐原    NOx    17   9.8   8.7   8.6   8.5   5.3   8.8\n",
       "7  2014/1/1  豐原     O3    16    30    27    23    24    28    24\n",
       "8  2014/1/1  豐原   PM10    56    50    48    35    25    12     4\n",
       "9  2014/1/1  豐原  PM2.5    26    39    36    35    31    28    25"
      ]
     },
     "execution_count": 5,
     "metadata": {},
     "output_type": "execute_result"
    }
   ],
   "source": [
    "df.iloc[1:10, 0:10]"
   ]
  },
  {
   "cell_type": "code",
   "execution_count": 6,
   "metadata": {
    "collapsed": false
   },
   "outputs": [
    {
     "name": "stdout",
     "output_type": "stream",
     "text": [
      "['AMB_TEMP', 'CH4', 'CO', 'NMHC', 'NO', 'NO2', 'NOx', 'O3', 'PM10', 'PM2.5', 'RAINFALL', 'RH', 'SO2', 'THC', 'WD_HR', 'WIND_DIREC', 'WIND_SPEED', 'WS_HR']\n"
     ]
    }
   ],
   "source": [
    "metric = 18\n",
    "metric_names = [df['測項'][i] for i in range(metric)]\n",
    "print(metric_names)\n",
    "data_per_day = []\n",
    "# parse data per day\n",
    "for i in range(df.shape[0] // 18):\n",
    "    # retreive rows\n",
    "    data_per_day.append(df.iloc[i * 18: (i+1) * 18, 3:].values)\n",
    "data_per_day = np.array(data_per_day)    "
   ]
  },
  {
   "cell_type": "code",
   "execution_count": 7,
   "metadata": {
    "collapsed": false
   },
   "outputs": [
    {
     "name": "stdout",
     "output_type": "stream",
     "text": [
      "(240, 18, 24)\n"
     ]
    }
   ],
   "source": [
    "print(data_per_day.shape) # (batch_size, metric, 24hours)"
   ]
  },
  {
   "cell_type": "code",
   "execution_count": 8,
   "metadata": {
    "collapsed": false
   },
   "outputs": [],
   "source": [
    "# building training example\n",
    "PM_index = metric_names.index('PM2.5')\n",
    "training_examples = [] # (total_training_example, X)\n",
    "label = [] # (total_training_example, y)\n",
    "for i in range(data_per_day.shape[2]):\n",
    "    if i + 9 < data_per_day.shape[2]:\n",
    "        # use 9 hours before to predict 10hour pm2.5\n",
    "        training_examples.append(data_per_day[:, :, i:i+9])\n",
    "        label.append(data_per_day[:, PM_index, i+9])\n",
    "training_examples = np.array(np.concatenate(training_examples, axis=0))\n",
    "label = np.concatenate(label, axis=0)"
   ]
  },
  {
   "cell_type": "code",
   "execution_count": 11,
   "metadata": {
    "collapsed": false
   },
   "outputs": [
    {
     "name": "stdout",
     "output_type": "stream",
     "text": [
      "(3600, 18, 9)\n",
      "['NR' 'NR' 'NR' 'NR' 'NR' 'NR' 'NR' 'NR' 'NR']\n",
      "(3600,)\n",
      "['30' '22' '9' ..., '23' '7' '29']\n"
     ]
    }
   ],
   "source": [
    "print(training_examples.shape)\n",
    "print(training_examples[0, 10])\n",
    "print(label.shape)\n",
    "print(label)"
   ]
  },
  {
   "cell_type": "code",
   "execution_count": 10,
   "metadata": {
    "collapsed": false
   },
   "outputs": [],
   "source": [
    "training_examples.dump(\"train_numpy\")\n",
    "label.dump(\"label_numpy\")"
   ]
  },
  {
   "cell_type": "code",
   "execution_count": null,
   "metadata": {
    "collapsed": true
   },
   "outputs": [],
   "source": []
  }
 ],
 "metadata": {
  "kernelspec": {
   "display_name": "Python 3",
   "language": "python",
   "name": "python3"
  },
  "language_info": {
   "codemirror_mode": {
    "name": "ipython",
    "version": 3
   },
   "file_extension": ".py",
   "mimetype": "text/x-python",
   "name": "python",
   "nbconvert_exporter": "python",
   "pygments_lexer": "ipython3",
   "version": "3.6.0"
  }
 },
 "nbformat": 4,
 "nbformat_minor": 2
}
