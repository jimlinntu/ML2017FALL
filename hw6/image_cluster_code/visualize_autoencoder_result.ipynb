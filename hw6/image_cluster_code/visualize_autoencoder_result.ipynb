{
 "cells": [
  {
   "cell_type": "code",
   "execution_count": 1,
   "metadata": {},
   "outputs": [],
   "source": [
    "from model import *\n",
    "from util import *\n",
    "from trainer import batch_generator"
   ]
  },
  {
   "cell_type": "code",
   "execution_count": 2,
   "metadata": {},
   "outputs": [],
   "source": [
    "model = AutoEncoder_DNN2().cuda()\n",
    "model.load_state_dict(torch.load(\"./param/besttime: 20180102_1519\"))"
   ]
  },
  {
   "cell_type": "code",
   "execution_count": 3,
   "metadata": {},
   "outputs": [],
   "source": [
    "image_array = load_image_npy(\"../data/image_cluster/image.npy\")\n",
    "test_case_df = load_test_case_csv(\"../data/image_cluster/test_case.csv\")\n",
    "mean = np.mean(image_array, axis=0)\n",
    "std = np.std(image_array, axis=0, ddof=1)\n",
    "image_array = (image_array - mean) / (std + 1e-6)"
   ]
  },
  {
   "cell_type": "code",
   "execution_count": 31,
   "metadata": {},
   "outputs": [
    {
     "data": {
      "text/plain": [
       "<matplotlib.image.AxesImage at 0x7f20fc1b5828>"
      ]
     },
     "execution_count": 31,
     "metadata": {},
     "output_type": "execute_result"
    },
    {
     "data": {
      "image/png": "[encoded data removed]",
      "text/plain": [
       "<matplotlib.figure.Figure at 0x7f211d9b89e8>"
      ]
     },
     "metadata": {},
     "output_type": "display_data"
    }
   ],
   "source": [
    "%matplotlib inline\n",
    "from matplotlib import pyplot as plt\n",
    "plt.imshow(image_array[-16].reshape(28, 28), cmap='Greys')"
   ]
  },
  {
   "cell_type": "code",
   "execution_count": 32,
   "metadata": {},
   "outputs": [],
   "source": [
    "reconstruct, code = model(Variable(torch.from_numpy(image_array[-16]).float()).cuda())"
   ]
  },
  {
   "cell_type": "code",
   "execution_count": 33,
   "metadata": {},
   "outputs": [],
   "source": [
    "reconstruct = (reconstruct.cpu().data.numpy() * std + mean).reshape(28, 28)"
   ]
  },
  {
   "cell_type": "code",
   "execution_count": 34,
   "metadata": {},
   "outputs": [
    {
     "data": {
      "text/plain": [
       "<matplotlib.image.AxesImage at 0x7f20f7505e48>"
      ]
     },
     "execution_count": 34,
     "metadata": {},
     "output_type": "execute_result"
    },
    {
     "data": {
      "image/png": "[encoded data removed]",
      "text/plain": [
       "<matplotlib.figure.Figure at 0x7f211d83fd30>"
      ]
     },
     "metadata": {},
     "output_type": "display_data"
    }
   ],
   "source": [
    "plt.imshow(reconstruct, cmap=\"Greys\")\n"
   ]
  },
  {
   "cell_type": "code",
   "execution_count": 16,
   "metadata": {},
   "outputs": [
    {
     "name": "stderr",
     "output_type": "stream",
     "text": [
      "467it [00:01, 244.20it/s]\n"
     ]
    }
   ],
   "source": [
    "g = batch_generator(image_array, batch_size=300, shuffle=False, volatile=True)\n",
    "reduced_image_array = []\n",
    "for batch in tqdm(g):\n",
    "    X_, code = model(batch[\"X\"])\n",
    "    reduced_image_array.append(code.cpu().data.numpy())"
   ]
  },
  {
   "cell_type": "code",
   "execution_count": 17,
   "metadata": {},
   "outputs": [],
   "source": [
    "reduced_image_array = np.concatenate(reduced_image_array, axis=0)"
   ]
  },
  {
   "cell_type": "code",
   "execution_count": 18,
   "metadata": {},
   "outputs": [
    {
     "data": {
      "text/plain": [
       "array([ 0.        ,  3.27692413,  1.37302613,  2.03436065,  2.15275264,\n",
       "        1.91758955,  2.9863615 ,  0.        ,  1.70714307,  2.23754239,\n",
       "        2.98123837,  0.        ,  2.30872583,  8.5885458 ,  0.64105695,\n",
       "        3.09854126,  3.57094312,  0.        ,  2.14527988,  1.57168841,\n",
       "        3.24806356,  1.27982354,  1.8829999 ,  2.60682774,  0.        ,\n",
       "        4.0659256 ,  0.        ,  0.75243443,  4.64227486,  2.27493477,\n",
       "        0.        ,  2.14216447], dtype=float32)"
      ]
     },
     "execution_count": 18,
     "metadata": {},
     "output_type": "execute_result"
    }
   ],
   "source": [
    "reduced_image_array[0]"
   ]
  },
  {
   "cell_type": "code",
   "execution_count": 19,
   "metadata": {},
   "outputs": [],
   "source": [
    "# K means\n",
    "kmeans = KMeans(n_clusters=2).fit(reduced_image_array)"
   ]
  },
  {
   "cell_type": "code",
   "execution_count": 20,
   "metadata": {},
   "outputs": [],
   "source": [
    "index2label = {index:label for index, label in enumerate(kmeans.labels_)}\n",
    "ans = [None] * test_case_df.shape[0]\n",
    "for index, row in enumerate(test_case_df.itertuples()):\n",
    "    if index2label[row[2]] == index2label[row[3]]:\n",
    "        ans[index] = 1\n",
    "    else:\n",
    "        ans[index] = 0\n"
   ]
  },
  {
   "cell_type": "code",
   "execution_count": 21,
   "metadata": {},
   "outputs": [],
   "source": [
    "print_to_csv(ans, \"testout_dnn_fix_initial_fix_forget_normalize_32dim_using_autoencoder\")"
   ]
  },
  {
   "cell_type": "code",
   "execution_count": 36,
   "metadata": {},
   "outputs": [
    {
     "data": {
      "text/plain": [
       "20166"
      ]
     },
     "execution_count": 36,
     "metadata": {},
     "output_type": "execute_result"
    }
   ],
   "source": [
    "np.sum(ans)"
   ]
  },
  {
   "cell_type": "code",
   "execution_count": 38,
   "metadata": {},
   "outputs": [],
   "source": [
    "# dump kmeans\n",
    "pickle.dump(kmeans, open(\"./kmeans.pkl\", \"wb\"))"
   ]
  },
  {
   "cell_type": "code",
   "execution_count": 13,
   "metadata": {},
   "outputs": [
    {
     "name": "stdout",
     "output_type": "stream",
     "text": [
      "[t-SNE] Computing 121 nearest neighbors...\n",
      "[t-SNE] Indexed 140000 samples in 0.642s...\n",
      "[t-SNE] Computed neighbors for 140000 samples in 1200.874s...\n",
      "[t-SNE] Computed conditional probabilities for sample 1000 / 140000\n",
      "[t-SNE] Computed conditional probabilities for sample 2000 / 140000\n",
      "[t-SNE] Computed conditional probabilities for sample 3000 / 140000\n",
      "[t-SNE] Computed conditional probabilities for sample 4000 / 140000\n",
      "[t-SNE] Computed conditional probabilities for sample 5000 / 140000\n",
      "[t-SNE] Computed conditional probabilities for sample 6000 / 140000\n",
      "[t-SNE] Computed conditional probabilities for sample 7000 / 140000\n",
      "[t-SNE] Computed conditional probabilities for sample 8000 / 140000\n",
      "[t-SNE] Computed conditional probabilities for sample 9000 / 140000\n",
      "[t-SNE] Computed conditional probabilities for sample 10000 / 140000\n",
      "[t-SNE] Computed conditional probabilities for sample 11000 / 140000\n",
      "[t-SNE] Computed conditional probabilities for sample 12000 / 140000\n",
      "[t-SNE] Computed conditional probabilities for sample 13000 / 140000\n",
      "[t-SNE] Computed conditional probabilities for sample 14000 / 140000\n",
      "[t-SNE] Computed conditional probabilities for sample 15000 / 140000\n",
      "[t-SNE] Computed conditional probabilities for sample 16000 / 140000\n",
      "[t-SNE] Computed conditional probabilities for sample 17000 / 140000\n",
      "[t-SNE] Computed conditional probabilities for sample 18000 / 140000\n",
      "[t-SNE] Computed conditional probabilities for sample 19000 / 140000\n",
      "[t-SNE] Computed conditional probabilities for sample 20000 / 140000\n",
      "[t-SNE] Computed conditional probabilities for sample 21000 / 140000\n",
      "[t-SNE] Computed conditional probabilities for sample 22000 / 140000\n",
      "[t-SNE] Computed conditional probabilities for sample 23000 / 140000\n",
      "[t-SNE] Computed conditional probabilities for sample 24000 / 140000\n",
      "[t-SNE] Computed conditional probabilities for sample 25000 / 140000\n",
      "[t-SNE] Computed conditional probabilities for sample 26000 / 140000\n",
      "[t-SNE] Computed conditional probabilities for sample 27000 / 140000\n",
      "[t-SNE] Computed conditional probabilities for sample 28000 / 140000\n",
      "[t-SNE] Computed conditional probabilities for sample 29000 / 140000\n",
      "[t-SNE] Computed conditional probabilities for sample 30000 / 140000\n",
      "[t-SNE] Computed conditional probabilities for sample 31000 / 140000\n",
      "[t-SNE] Computed conditional probabilities for sample 32000 / 140000\n",
      "[t-SNE] Computed conditional probabilities for sample 33000 / 140000\n",
      "[t-SNE] Computed conditional probabilities for sample 34000 / 140000\n",
      "[t-SNE] Computed conditional probabilities for sample 35000 / 140000\n",
      "[t-SNE] Computed conditional probabilities for sample 36000 / 140000\n",
      "[t-SNE] Computed conditional probabilities for sample 37000 / 140000\n",
      "[t-SNE] Computed conditional probabilities for sample 38000 / 140000\n",
      "[t-SNE] Computed conditional probabilities for sample 39000 / 140000\n",
      "[t-SNE] Computed conditional probabilities for sample 40000 / 140000\n",
      "[t-SNE] Computed conditional probabilities for sample 41000 / 140000\n",
      "[t-SNE] Computed conditional probabilities for sample 42000 / 140000\n",
      "[t-SNE] Computed conditional probabilities for sample 43000 / 140000\n",
      "[t-SNE] Computed conditional probabilities for sample 44000 / 140000\n",
      "[t-SNE] Computed conditional probabilities for sample 45000 / 140000\n",
      "[t-SNE] Computed conditional probabilities for sample 46000 / 140000\n",
      "[t-SNE] Computed conditional probabilities for sample 47000 / 140000\n",
      "[t-SNE] Computed conditional probabilities for sample 48000 / 140000\n",
      "[t-SNE] Computed conditional probabilities for sample 49000 / 140000\n",
      "[t-SNE] Computed conditional probabilities for sample 50000 / 140000\n",
      "[t-SNE] Computed conditional probabilities for sample 51000 / 140000\n",
      "[t-SNE] Computed conditional probabilities for sample 52000 / 140000\n",
      "[t-SNE] Computed conditional probabilities for sample 53000 / 140000\n",
      "[t-SNE] Computed conditional probabilities for sample 54000 / 140000\n",
      "[t-SNE] Computed conditional probabilities for sample 55000 / 140000\n",
      "[t-SNE] Computed conditional probabilities for sample 56000 / 140000\n",
      "[t-SNE] Computed conditional probabilities for sample 57000 / 140000\n",
      "[t-SNE] Computed conditional probabilities for sample 58000 / 140000\n",
      "[t-SNE] Computed conditional probabilities for sample 59000 / 140000\n",
      "[t-SNE] Computed conditional probabilities for sample 60000 / 140000\n",
      "[t-SNE] Computed conditional probabilities for sample 61000 / 140000\n",
      "[t-SNE] Computed conditional probabilities for sample 62000 / 140000\n",
      "[t-SNE] Computed conditional probabilities for sample 63000 / 140000\n",
      "[t-SNE] Computed conditional probabilities for sample 64000 / 140000\n",
      "[t-SNE] Computed conditional probabilities for sample 65000 / 140000\n",
      "[t-SNE] Computed conditional probabilities for sample 66000 / 140000\n",
      "[t-SNE] Computed conditional probabilities for sample 67000 / 140000\n",
      "[t-SNE] Computed conditional probabilities for sample 68000 / 140000\n",
      "[t-SNE] Computed conditional probabilities for sample 69000 / 140000\n",
      "[t-SNE] Computed conditional probabilities for sample 70000 / 140000\n",
      "[t-SNE] Computed conditional probabilities for sample 71000 / 140000\n",
      "[t-SNE] Computed conditional probabilities for sample 72000 / 140000\n",
      "[t-SNE] Computed conditional probabilities for sample 73000 / 140000\n",
      "[t-SNE] Computed conditional probabilities for sample 74000 / 140000\n",
      "[t-SNE] Computed conditional probabilities for sample 75000 / 140000\n",
      "[t-SNE] Computed conditional probabilities for sample 76000 / 140000\n",
      "[t-SNE] Computed conditional probabilities for sample 77000 / 140000\n",
      "[t-SNE] Computed conditional probabilities for sample 78000 / 140000\n",
      "[t-SNE] Computed conditional probabilities for sample 79000 / 140000\n",
      "[t-SNE] Computed conditional probabilities for sample 80000 / 140000\n",
      "[t-SNE] Computed conditional probabilities for sample 81000 / 140000\n",
      "[t-SNE] Computed conditional probabilities for sample 82000 / 140000\n",
      "[t-SNE] Computed conditional probabilities for sample 83000 / 140000\n",
      "[t-SNE] Computed conditional probabilities for sample 84000 / 140000\n",
      "[t-SNE] Computed conditional probabilities for sample 85000 / 140000\n",
      "[t-SNE] Computed conditional probabilities for sample 86000 / 140000\n",
      "[t-SNE] Computed conditional probabilities for sample 87000 / 140000\n",
      "[t-SNE] Computed conditional probabilities for sample 88000 / 140000\n",
      "[t-SNE] Computed conditional probabilities for sample 89000 / 140000\n",
      "[t-SNE] Computed conditional probabilities for sample 90000 / 140000\n",
      "[t-SNE] Computed conditional probabilities for sample 91000 / 140000\n",
      "[t-SNE] Computed conditional probabilities for sample 92000 / 140000\n",
      "[t-SNE] Computed conditional probabilities for sample 93000 / 140000\n",
      "[t-SNE] Computed conditional probabilities for sample 94000 / 140000\n",
      "[t-SNE] Computed conditional probabilities for sample 95000 / 140000\n",
      "[t-SNE] Computed conditional probabilities for sample 96000 / 140000\n",
      "[t-SNE] Computed conditional probabilities for sample 97000 / 140000\n",
      "[t-SNE] Computed conditional probabilities for sample 98000 / 140000\n",
      "[t-SNE] Computed conditional probabilities for sample 99000 / 140000\n",
      "[t-SNE] Computed conditional probabilities for sample 100000 / 140000\n",
      "[t-SNE] Computed conditional probabilities for sample 101000 / 140000\n",
      "[t-SNE] Computed conditional probabilities for sample 102000 / 140000\n",
      "[t-SNE] Computed conditional probabilities for sample 103000 / 140000\n",
      "[t-SNE] Computed conditional probabilities for sample 104000 / 140000\n",
      "[t-SNE] Computed conditional probabilities for sample 105000 / 140000\n",
      "[t-SNE] Computed conditional probabilities for sample 106000 / 140000\n",
      "[t-SNE] Computed conditional probabilities for sample 107000 / 140000\n",
      "[t-SNE] Computed conditional probabilities for sample 108000 / 140000\n",
      "[t-SNE] Computed conditional probabilities for sample 109000 / 140000\n",
      "[t-SNE] Computed conditional probabilities for sample 110000 / 140000\n",
      "[t-SNE] Computed conditional probabilities for sample 111000 / 140000\n",
      "[t-SNE] Computed conditional probabilities for sample 112000 / 140000\n",
      "[t-SNE] Computed conditional probabilities for sample 113000 / 140000\n",
      "[t-SNE] Computed conditional probabilities for sample 114000 / 140000\n",
      "[t-SNE] Computed conditional probabilities for sample 115000 / 140000\n",
      "[t-SNE] Computed conditional probabilities for sample 116000 / 140000\n",
      "[t-SNE] Computed conditional probabilities for sample 117000 / 140000\n",
      "[t-SNE] Computed conditional probabilities for sample 118000 / 140000\n",
      "[t-SNE] Computed conditional probabilities for sample 119000 / 140000\n",
      "[t-SNE] Computed conditional probabilities for sample 120000 / 140000\n",
      "[t-SNE] Computed conditional probabilities for sample 121000 / 140000\n"
     ]
    },
    {
     "name": "stdout",
     "output_type": "stream",
     "text": [
      "[t-SNE] Computed conditional probabilities for sample 122000 / 140000\n",
      "[t-SNE] Computed conditional probabilities for sample 123000 / 140000\n",
      "[t-SNE] Computed conditional probabilities for sample 124000 / 140000\n",
      "[t-SNE] Computed conditional probabilities for sample 125000 / 140000\n",
      "[t-SNE] Computed conditional probabilities for sample 126000 / 140000\n",
      "[t-SNE] Computed conditional probabilities for sample 127000 / 140000\n",
      "[t-SNE] Computed conditional probabilities for sample 128000 / 140000\n",
      "[t-SNE] Computed conditional probabilities for sample 129000 / 140000\n",
      "[t-SNE] Computed conditional probabilities for sample 130000 / 140000\n",
      "[t-SNE] Computed conditional probabilities for sample 131000 / 140000\n",
      "[t-SNE] Computed conditional probabilities for sample 132000 / 140000\n",
      "[t-SNE] Computed conditional probabilities for sample 133000 / 140000\n",
      "[t-SNE] Computed conditional probabilities for sample 134000 / 140000\n",
      "[t-SNE] Computed conditional probabilities for sample 135000 / 140000\n",
      "[t-SNE] Computed conditional probabilities for sample 136000 / 140000\n",
      "[t-SNE] Computed conditional probabilities for sample 137000 / 140000\n",
      "[t-SNE] Computed conditional probabilities for sample 138000 / 140000\n",
      "[t-SNE] Computed conditional probabilities for sample 139000 / 140000\n",
      "[t-SNE] Computed conditional probabilities for sample 140000 / 140000\n",
      "[t-SNE] Mean sigma: 87.232546\n",
      "[t-SNE] Computed conditional probabilities in 66.355s\n",
      "[t-SNE] Iteration 50: error = 117.3966751, gradient norm = 0.0000001 (50 iterations in 342.769s)\n",
      "[t-SNE] Iteration 100: error = 117.3964844, gradient norm = 0.0000269 (50 iterations in 1497.590s)\n",
      "[t-SNE] Iteration 150: error = 106.0384674, gradient norm = 0.0016032 (50 iterations in 917.472s)\n",
      "[t-SNE] Iteration 200: error = 97.2412949, gradient norm = 0.0006758 (50 iterations in 269.637s)\n",
      "[t-SNE] Iteration 250: error = 93.9663620, gradient norm = 0.0004318 (50 iterations in 270.825s)\n",
      "[t-SNE] KL divergence after 250 iterations with early exaggeration: 93.966362\n",
      "[t-SNE] Iteration 300: error = 5.3063507, gradient norm = 0.0008900 (50 iterations in 261.454s)\n",
      "[t-SNE] Iteration 350: error = 4.9433379, gradient norm = 0.0006290 (50 iterations in 253.331s)\n",
      "[t-SNE] Iteration 400: error = 4.6181207, gradient norm = 0.0004698 (50 iterations in 252.138s)\n",
      "[t-SNE] Iteration 450: error = 4.3509402, gradient norm = 0.0003634 (50 iterations in 253.847s)\n",
      "[t-SNE] Iteration 500: error = 4.1382957, gradient norm = 0.0002913 (50 iterations in 248.987s)\n",
      "[t-SNE] Error after 500 iterations: 4.138296\n"
     ]
    }
   ],
   "source": [
    "reduced_image_array = TSNE(n_components=2, verbose=4, perplexity=40, \n",
    "                n_iter=500).fit_transform(reduced_image_array)"
   ]
  },
  {
   "cell_type": "code",
   "execution_count": 15,
   "metadata": {},
   "outputs": [],
   "source": [
    "kmeans = KMeans(n_clusters=2).fit(reduced_image_array)\n"
   ]
  },
  {
   "cell_type": "code",
   "execution_count": 16,
   "metadata": {},
   "outputs": [
    {
     "data": {
      "image/png": "[encoded data removed]",
      "text/plain": [
       "<matplotlib.figure.Figure at 0x7f3d90013518>"
      ]
     },
     "metadata": {},
     "output_type": "display_data"
    }
   ],
   "source": [
    "color = [\"blue\", \"red\"]\n",
    "color_list = [color[label] for label in kmeans.labels_]\n",
    "plt.scatter(reduced_image_array[:, 0], reduced_image_array[:, 1], c=color_list, cmap=plt.cm.get_cmap(\"jet\", 10))\n",
    "plt.show()"
   ]
  },
  {
   "cell_type": "code",
   "execution_count": 54,
   "metadata": {},
   "outputs": [
    {
     "name": "stdout",
     "output_type": "stream",
     "text": [
      "Pandas(Index=0, ID=0, image1_index=17874, image2_index=20452)\n"
     ]
    }
   ],
   "source": [
    "index2label = {index:label for index, label in enumerate(kmeans.labels_)}\n",
    "ans = [None] * test_case_df.shape[0]\n",
    "for index, row in enumerate(test_case_df.itertuples()):\n",
    "    if index2label[row[2]] == index2label[row[3]]:\n",
    "        ans[index] = 1\n",
    "    else:\n",
    "        ans[index] = 0"
   ]
  },
  {
   "cell_type": "code",
   "execution_count": 27,
   "metadata": {},
   "outputs": [],
   "source": [
    "print_to_csv(ans, \"testout_32dim_using_autoencoder_and_use_tsne_reduce_to2dim_and_kmeans\")"
   ]
  },
  {
   "cell_type": "code",
   "execution_count": 33,
   "metadata": {},
   "outputs": [
    {
     "data": {
      "text/plain": [
       "0.050200651973051215"
      ]
     },
     "execution_count": 33,
     "metadata": {},
     "output_type": "execute_result"
    }
   ],
   "source": [
    "np.sum(ans) / np.sum(np.array(ans) == 0)"
   ]
  },
  {
   "cell_type": "code",
   "execution_count": 53,
   "metadata": {},
   "outputs": [
    {
     "data": {
      "text/plain": [
       "1"
      ]
     },
     "execution_count": 53,
     "metadata": {},
     "output_type": "execute_result"
    }
   ],
   "source": []
  },
  {
   "cell_type": "code",
   "execution_count": null,
   "metadata": {},
   "outputs": [],
   "source": []
  }
 ],
 "metadata": {
  "kernelspec": {
   "display_name": "Python 3",
   "language": "python",
   "name": "python3"
  },
  "language_info": {
   "codemirror_mode": {
    "name": "ipython",
    "version": 3
   },
   "file_extension": ".py",
   "mimetype": "text/x-python",
   "name": "python",
   "nbconvert_exporter": "python",
   "pygments_lexer": "ipython3",
   "version": "3.5.2"
  }
 },
 "nbformat": 4,
 "nbformat_minor": 2
}
