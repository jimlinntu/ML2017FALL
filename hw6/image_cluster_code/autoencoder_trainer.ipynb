{
 "cells": [
  {
   "cell_type": "code",
   "execution_count": 1,
   "metadata": {},
   "outputs": [],
   "source": [
    "from model import *"
   ]
  },
  {
   "cell_type": "code",
   "execution_count": 2,
   "metadata": {},
   "outputs": [],
   "source": [
    "from util import *"
   ]
  },
  {
   "cell_type": "code",
   "execution_count": 3,
   "metadata": {},
   "outputs": [],
   "source": [
    "image_array = load_image_npy(\"../data/image_cluster/image.npy\")\n",
    "test_case_df = load_test_case_csv(\"../data/image_cluster/test_case.csv\")"
   ]
  },
  {
   "cell_type": "code",
   "execution_count": 11,
   "metadata": {},
   "outputs": [
    {
     "data": {
      "text/plain": [
       "AutoEncoder (\n",
       "  (conv_1): Conv2d(1, 5, kernel_size=(3, 3), stride=(1, 1))\n",
       "  (maxpool_1): MaxPool2d (size=(2, 2), stride=(2, 2), dilation=(1, 1))\n",
       "  (dropout): Dropout (p = 0.3)\n",
       "  (relu): ReLU (inplace)\n",
       "  (conv_2): Conv2d(5, 10, kernel_size=(2, 2), stride=(1, 1))\n",
       "  (maxpool_2): MaxPool2d (size=(2, 2), stride=(2, 2), dilation=(1, 1))\n",
       "  (deconv_1): Conv2d(10, 5, kernel_size=(2, 2), stride=(1, 1), padding=(1, 1))\n",
       "  (unpool_1): MaxUnpool2d (size=(2, 2), stride=(2, 2), padding=(0, 0))\n",
       "  (deconv_2): Conv2d(5, 1, kernel_size=(3, 3), stride=(1, 1), padding=(2, 2))\n",
       "  (unpool_2): MaxUnpool2d (size=(2, 2), stride=(2, 2), padding=(0, 0))\n",
       ")"
      ]
     },
     "execution_count": 11,
     "metadata": {},
     "output_type": "execute_result"
    }
   ],
   "source": [
    "model = AutoEncoder()\n",
    "model.cuda()"
   ]
  },
  {
   "cell_type": "code",
   "execution_count": 12,
   "metadata": {},
   "outputs": [],
   "source": [
    "def batch_generator(X, batch_size, shuffle=True, volatile=False):\n",
    "    N = X.shape[0]\n",
    "    if shuffle == True:\n",
    "        random_permutation = np.random.permutation(N)\n",
    "        X = X[random_permutation]\n",
    "    quotient = N // batch_size\n",
    "    remainder = N % batch_size\n",
    "    for i in range(quotient):\n",
    "        batch = {}\n",
    "        batch[\"X\"] = Variable(torch.from_numpy(X[i*batch_size:(i+1)*batch_size]).float(),\n",
    "            volatile=volatile)\n",
    "        if torch.cuda.is_available():\n",
    "            batch[\"X\"] = batch[\"X\"].cuda()\n",
    "        yield batch"
   ]
  },
  {
   "cell_type": "code",
   "execution_count": 13,
   "metadata": {},
   "outputs": [],
   "source": [
    "g = batch_generator(image_array, 100)"
   ]
  },
  {
   "cell_type": "code",
   "execution_count": 14,
   "metadata": {},
   "outputs": [],
   "source": [
    "batch = next(g)"
   ]
  },
  {
   "cell_type": "code",
   "execution_count": 15,
   "metadata": {},
   "outputs": [
    {
     "name": "stdout",
     "output_type": "stream",
     "text": [
      "> /nfs/home/jimlin7777/ML2017/hw6/image_cluster_code/model.py(69)forward()\n",
      "-> out = self.conv_1(X)\n",
      "(Pdb) cont\n"
     ]
    }
   ],
   "source": [
    "X_ = model(batch[\"X\"])"
   ]
  },
  {
   "cell_type": "code",
   "execution_count": 16,
   "metadata": {},
   "outputs": [
    {
     "data": {
      "text/plain": [
       "Variable containing:\n",
       "-1.0798e-01 -1.4580e-01 -1.1238e-01  ...  -1.1649e-01 -1.1649e-01 -1.1649e-01\n",
       "-1.0859e-01 -1.4565e-01 -1.1307e-01  ...  -1.1649e-01 -1.1649e-01 -1.1649e-01\n",
       "-1.4397e-01 -2.3734e-01 -6.4473e-02  ...  -1.1649e-01 -1.1649e-01 -1.1649e-01\n",
       "                ...                   ⋱                   ...                \n",
       "-1.0991e-01 -1.4606e-01 -1.1883e-01  ...  -1.1649e-01 -1.1649e-01 -1.1649e-01\n",
       " 1.1182e-01 -6.4438e-01  1.0777e-01  ...  -1.0610e+00 -1.2131e+00 -1.7392e-01\n",
       "-1.0791e-01 -1.4385e-01 -1.1842e-01  ...  -1.1649e-01 -1.1649e-01 -1.1649e-01\n",
       "[torch.cuda.FloatTensor of size 100x784 (GPU 0)]"
      ]
     },
     "execution_count": 16,
     "metadata": {},
     "output_type": "execute_result"
    }
   ],
   "source": []
  },
  {
   "cell_type": "code",
   "execution_count": null,
   "metadata": {},
   "outputs": [],
   "source": []
  }
 ],
 "metadata": {
  "kernelspec": {
   "display_name": "Python 3",
   "language": "python",
   "name": "python3"
  },
  "language_info": {
   "codemirror_mode": {
    "name": "ipython",
    "version": 3
   },
   "file_extension": ".py",
   "mimetype": "text/x-python",
   "name": "python",
   "nbconvert_exporter": "python",
   "pygments_lexer": "ipython3",
   "version": "3.5.2"
  }
 },
 "nbformat": 4,
 "nbformat_minor": 2
}
